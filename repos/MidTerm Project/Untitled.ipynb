{
 "cells": [
  {
   "cell_type": "code",
   "execution_count": null,
   "metadata": {},
   "outputs": [],
   "source": [
    "import warnings\n",
    "import matplotlib.pyplot as plt\n",
    "import numpy as np\n",
    "import pandas as pd\n",
    "from re import sub\n",
    "from decimal import Decimal\n",
    "from scipy import stats\n",
    "import seaborn as sns\n",
    "from textwrap import fill\n",
    "from wordcloud import WordCloud\n",
    "import folium as fl\n",
    "from folium.plugins import HeatMap\n",
    "from folium.plugins import PolyLineTextPath\n",
    "from urllib.request import Request, urlopen\n",
    "\n",
    "\n",
    "warnings.filterwarnings('ignore')\n",
    "pd.set_option('display.max_columns', 100)\n",
    "pd.set_option('display.max_rows', 100)"
   ]
  },
  {
   "cell_type": "code",
   "execution_count": null,
   "metadata": {},
   "outputs": [],
   "source": [
    "listings_file = 'data/listings 2.csv'\n",
    "\n",
    "'''set variable for with type of room you are interested in:\n",
    "    'Entire home/apt'\n",
    "    'Private room'\n",
    "    'Hotel room'\n",
    "    'Shared room'\n",
    "    To return all room types, set value to 'All'\n",
    "'''\n",
    "room_type = 'All'"
   ]
  },
  {
   "cell_type": "code",
   "execution_count": null,
   "metadata": {},
   "outputs": [],
   "source": [
    "listings_detailed_df=pd.read_csv('Data/listings 2.csv')"
   ]
  },
  {
   "cell_type": "code",
   "execution_count": null,
   "metadata": {},
   "outputs": [],
   "source": [
    "listings_detailed_df.info()"
   ]
  },
  {
   "cell_type": "code",
   "execution_count": null,
   "metadata": {},
   "outputs": [],
   "source": [
    "def pie_chart_for_column_value_by_percentage(df, column, title, imagename):\n",
    "    labels = df[column].value_counts().index\n",
    "    sizes = df[column].value_counts().values\n",
    "    #explode = (0.1, 0, 0, 0)  \n",
    "    fig1, ax1 = plt.subplots(figsize=(10,10))\n",
    "    ax1.pie(sizes,  autopct='%1.1f%%',labels=sizes,\n",
    "        shadow=False, startangle=90, pctdistance=.5, labeldistance=1.05)\n",
    "    ax1.axis('equal')  # Equal aspect ratio ensures that pie is drawn as a circle.\n",
    "    ax1.legend(bbox_to_anchor=(1.0, 1.0), labels=labels, loc='upper right')\n",
    "    plt.title(title)\n",
    "    plt.savefig('images/' + imagename + '.png')\n",
    "    plt.tight_layout()\n",
    "    plt.show()\n",
    "\n",
    "pie_chart_for_column_value_by_percentage(listings_detailed_df,'room_type','Asheville AirBnB Listings By Room Type', 'All Room Type by Percentage')"
   ]
  },
  {
   "cell_type": "code",
   "execution_count": null,
   "metadata": {},
   "outputs": [],
   "source": [
    "keeper_columns = ['id',\n",
    "                'name',\n",
    "                'host_id',\n",
    "                'host_name',\n",
    "                'neighbourhood',\n",
    "                'neighborhood_overview',\n",
    "                'host_since',\n",
    "                'host_location',\n",
    "                'host_listings_count',\n",
    "                'host_total_listings_count',\n",
    "                'neighbourhood',\n",
    "                'latitude',\n",
    "                'longitude',\n",
    "                'room_type',\n",
    "                'price',\n",
    "                'minimum_nights',\n",
    "                'number_of_reviews',\n",
    "                'last_review',\n",
    "                'reviews_per_month',\n",
    "                'calculated_host_listings_count',\n",
    "                'availability_30',\n",
    "                'availability_365',\n",
    "                'number_of_reviews_ltm',\n",
    "                 'number_of_reviews_l30d',\n",
    "                 'first_review',\n",
    "                 'last_review',\n",
    "                 'review_scores_rating',\n",
    "                 'review_scores_accuracy',\n",
    "                 'review_scores_cleanliness',\n",
    "                 'review_scores_location', 'review_scores_value',\n",
    "                 'license',\n",
    "                 'calculated_host_listings_count', \n",
    "                  'calculated_host_listings_count_entire_homes', \n",
    "                  'calculated_host_listings_count_private_rooms', \n",
    "                  'calculated_host_listings_count_shared_rooms',\n",
    "                 'reviews_per_month',\n",
    "                  'gross_income_30',\n",
    "                  'airbnb_host_fee',\n",
    "                  'airbnb_profit_30',\n",
    "                  'bedrooms',\n",
    "                  'bathrooms',\n",
    "                  'bathrooms_text',\n",
    "                  'cleaning_fee',\n",
    "                  'percentage_occupied',\n",
    "                  'net_income_30',\n",
    "                  'cleaners_fee_30'\n",
    "                 ]\n"
   ]
  },
  {
   "cell_type": "code",
   "execution_count": null,
   "metadata": {},
   "outputs": [],
   "source": [
    "listings_detailed_df.info(10)"
   ]
  },
  {
   "cell_type": "code",
   "execution_count": null,
   "metadata": {},
   "outputs": [],
   "source": []
  },
  {
   "cell_type": "code",
   "execution_count": null,
   "metadata": {},
   "outputs": [],
   "source": [
    "#listings_detailed_df['price'].map(Decimal(sub(r'[^\\d.]', '', listings_detailed_df['price'])))\n",
    "#listings_detailed_df['price'] = pd.to_numeric(listings_detailed_df['price'].str.replace(\"$\",\"\").str.replace(\",\",\"\"), downcast=\"float\")"
   ]
  },
  {
   "cell_type": "code",
   "execution_count": null,
   "metadata": {},
   "outputs": [],
   "source": [
    "def determine_avg_cleaning_fee(df):\n",
    "    conditions = [\n",
    "        (df['bedrooms'] == 0) & (df['bathrooms_text'].str.contains('0')==True),\n",
    "        (df['bedrooms'] == 0) & (df['bathrooms_text'].str.contains('1|1.') ==True),\n",
    "        (df['bedrooms'] == 1.0) & (df['bathrooms_text'].str.contains('1|1.') ==True),\n",
    "        (df['bedrooms'] == 2.0) &  (df['bathrooms_text'].str.contains('1|1.|2|2.') ==True),\n",
    "        (df['bedrooms'] == 3.0) & (df['bathrooms_text'].str.contains('1|1.|2|2.') ==True),\n",
    "        (df['bedrooms'] == 4.0) & (df['bathrooms_text'].str.contains('1|1.|2|2.') ==True),\n",
    "        (df['bedrooms'] == 4.0) & (df['bathrooms_text'].str.contains('2|2.|3|3.') ==True),\n",
    "        (df['bedrooms'] == 5.0) & (df['bathrooms_text'].str.contains('2|2.|3|3.') ==True),\n",
    "        (df['bedrooms'] > 5.0) & (df['bathrooms_text'].str.contains('4|4.|5|5.|6|6.') ==True)\n",
    "    ]\n",
    "    choices = [0,25,50,95,125,150,175,200,350]  \n",
    "    df['cleaning_fee'] = np.select(conditions, choices, default=0)\n",
    "    return df\n",
    "\n",
    "def keep_pertinent_listings_data(df, by_room_type=True, room_type='Entire home/apt'):\n",
    "    if by_room_type:\n",
    "        df= df[df['room_type'] == room_type]\n",
    "    df['price'] = df['price'].str.replace(\"[$, ]\", \"\").astype(\"float\")\n",
    "    df['price'] = df['price'].astype(\"int\")\n",
    "    df['minimum_nights'] = df['minimum_nights'].astype(\"int\")\n",
    "    df['neighbourhood'] = df['neighbourhood'].str.split(',').str[0]\n",
    "    #drop columns you don't want to keep:\n",
    "    #keep only those listings which are for the Entire Home as those are illegal in Asheville\n",
    "    days_booked= 30 - df['availability_30']\n",
    "    df['cleaners_fee_30'] = df['cleaning_fee'] * (days_booked / df['minimum_nights'])\n",
    "    df['gross_income_30'] = (df['price'] * days_booked) + df['cleaners_fee_30']\n",
    "    df['airbnb_host_fee'] = 0.03 * df['gross_income_30']\n",
    "    df['airbnb_profit_30'] = df['airbnb_host_fee'] + (0.14 * df['gross_income_30'])\n",
    "    df['percentage_occupied'] = ((30 - df['availability_30']) / 30 * 100).astype('int')\n",
    "    df['net_income_30'] = df['gross_income_30']- df['airbnb_host_fee'] - df['cleaners_fee_30']\n",
    "    new_df = df.drop(columns=[col for col in df if col not in keeper_columns])\n",
    "    new_df= new_df.query('minimum_nights < 30')\n",
    "    print(f\"There are {new_df['id'].count()} entries for {room_type} listings, there are {new_df['license'].count()} licenses.\")\n",
    "    return new_df\n",
    "\n",
    "\n",
    "def determine_entire_home_rentals_less_than_30_days_pie_chart(original_df, cleaned_df, title='Percentage of Stays Violating Ordnance'):\n",
    "    entire_home_stays_less_than_30 = len(cleaned_df)\n",
    "    entire_home_stays_30days_orlonger = len(original_df.loc[original_df['room_type']=='Entire home/apt']) - entire_home_stays_less_than_30\n",
    "    all_other_listings_count= len(original_df)- (entire_home_stays_less_than_30 + entire_home_stays_30days_orlonger)\n",
    "    labels_count=[all_other_listings_count, entire_home_stays_less_than_30, entire_home_stays_30days_orlonger]\n",
    "    labels_list=['Other Stays', 'Entire Home Stays For Less Than Thirty', 'Entire Home Stays Over Thirty']\n",
    "    sizes=[all_other_listings_count, entire_home_stays_less_than_30, entire_home_stays_30days_orlonger]\n",
    "    fig1, ax1 = plt.subplots(figsize=(10,10))\n",
    "    ax1.pie(sizes,  autopct='%1.1f%%',labels=labels_count, pctdistance=.5, labeldistance=1.05,\n",
    "        shadow=False, startangle=90)\n",
    "    ax1.axis('equal')  # Equal aspect ratio ensures that pie is drawn as a circle.\n",
    "    ax1.legend(bbox_to_anchor=(1.0,1.0), labels=labels_list, loc='upper right')\n",
    "    plt.title(title)\n",
    "    plt.savefig('images/' + title + ' piechart.png')\n",
    "    plt.tight_layout()\n",
    "    plt.show()\n",
    "    \n",
    "    \n",
    "    \n",
    "    \n",
    "    \n",
    "def calculate_distributions(df,df_column):\n",
    "    df_column=df[df_column]\n",
    "    df_column_median = int(round(np.median(df_column),2))\n",
    "    df_column_mean = int(round(np.mean(df_column),2))\n",
    "    mode_1 = list(stats.mode(df_column))\n",
    "    df_column_mode = mode_1[0]\n",
    "    df_column_min_value=df_column.min()\n",
    "    df_column_max_value=df_column.max()\n",
    "    quantiles= df_column.quantile([0.25,0.5,0.75])\n",
    "    \n",
    "    return df_column_median,df_column_mean,df_column_mode,df_column_min_value,df_column_max_value,quantiles\n",
    "\n",
    "\n",
    "def determine_and_update_poss_mistaken_price(df):\n",
    "    min_logical_price = price_first_quantile * 25\n",
    "    max_prices = df.query('(price > @min_logical_price) and (minimum_nights >= 30)')\n",
    "    if len(max_prices) > 0:\n",
    "        max_index = max_prices['price'].index.values\n",
    "        print(f'Nightly price may be input error, look closer at index {max_index} with nightly price of {max_prices.values}')\n",
    "        modify_price=input(\"Modify the price to average nightly price? yes/no :\")\n",
    "        if modify_price == 'yes':\n",
    "            df.loc[df.price > min_logical_price, 'price'] = price_mode\n",
    "            \n",
    "    return df\n",
    "\n",
    "\n",
    "def get_qualitative_dist_box_plot(df, df_column, ylabel, title, imagename, color='magenta'):\n",
    "    df_column=df[df_column]\n",
    "    median = round(np.median(df_column),2)\n",
    "    mean = round(np.mean(df_column),2)\n",
    "    mode_1 = list(stats.mode(df_column))\n",
    "    fin_mode = list(mode_1)[0]\n",
    "    min_int=df_column.min()\n",
    "    max_int=df_column.max()\n",
    "    #print([min_int, max_int, median,mean,mode])\n",
    "    fig, ax = plt.subplots(figsize =(10, 8))\n",
    "    sns.boxplot(y= df_column, \n",
    "            color=color,\n",
    "            showmeans=True,\n",
    "            hue = df_column,\n",
    "            meanprops={\"marker\":\"o\",\n",
    "                       \"markerfacecolor\":\"yellow\", \n",
    "                       \"markeredgecolor\":\"black\",\n",
    "                      \"markersize\":\"14\"},\n",
    "            medianprops=dict(color='red'),\n",
    "            width = 0.5\n",
    "               )\n",
    "    plt.title(title, fontsize=14)\n",
    "    plt.ylabel(ylabel)\n",
    "    plt.legend(labels=[f\"Min Value = {min_int} \",f\"Max Value = {max_int}\", f\"Mean Value = {mean}\", f\"Median Value = {median}\", f\"Mode Value = {fin_mode}\"], title = 'Qualitative Distributions')\n",
    "    plt.savefig(f'images/{imagename}' + '.png')\n",
    "    plt.show()\n",
    "\n",
    "\n",
    "def build_distribution_histogram(column_data,color, figsize_list, bins_int, step_size, ylabel, xlabel,title,imagename):\n",
    "  #ensure user-provided variables are correct data-type:\n",
    "    min_int=column_data.min()\n",
    "    max_int=column_data.max()\n",
    "    bins_int=int(bins_int)\n",
    "    step_size=int(step_size)\n",
    "    ylabel=str(ylabel)\n",
    "    xlabel=str(xlabel)\n",
    "    title=str(title)\n",
    "    imagename=str(imagename)\n",
    "    \n",
    "  #build histogram plot:\n",
    "    plt.figure(figsize=(figsize_list[0],figsize_list[1]))\n",
    "    plt.hist(column_data, bins=bins_int, color=str(color))\n",
    "    plt.xticks(np.arange(min_int, max_int, step=step_size))\n",
    "    plt.ylabel(ylabel)\n",
    "    plt.xlabel(xlabel)\n",
    "    #plt.axvline(x.mean(), color='k', linestyle='dashed', linewidth=1, label=)\n",
    "    plt.title(title)\n",
    "    plt.legend([f'Min Value:{min_int}',f'Max Value:{max_int}'], loc='upper right')\n",
    "    plt.savefig(imagename +'.png')\n",
    "    plt.show()\n",
    "\n",
    "    \n",
    "def make_bar_chart_from_column_values_with_values_top20(df,df_column,figsize=(30,5), title='Title', color='Orange', imagename='imagename'):\n",
    "    df_column = df[df_column]\n",
    "    top_values= df_column.value_counts()[:20]\n",
    "    high_value= top_values.values[0]\n",
    "    low_value=top_values.values[-1]\n",
    "    fig,ax = plt.subplots(figsize=figsize)\n",
    "    plt.bar(range(len(top_values)), top_values.values, align='center', color= color)\n",
    "    for i in range(len(top_values.values)):\n",
    "            plt.annotate(str(top_values.values[i]), xy=(i,top_values.values[i]), ha='center', va='bottom')\n",
    "    plt.xticks(range(len(top_values)), top_values.index.values, size='medium', rotation=45)\n",
    "    plt.legend(labels=[f\"Highest Value = {high_value}\", f\"Lowest Value = {low_value}\"])\n",
    "    plt.title(title)\n",
    "    plt.xlabel(title)\n",
    "    plt.savefig(f\"images/{imagename}\" + \".png\")\n",
    "    plt.show()\n",
    "\n",
    "\n",
    "def make_bar_chart_from_column_values_with_names_top20(df,df_column, df_column_for_name_label, figsize=(30,5), title='Title', color='Orange', imagename='bar_chart_names'):\n",
    "    df_column = df[df_column]\n",
    "    top_values= df_column.value_counts()[:20]\n",
    "    list_of_value_names=[]\n",
    "    for each in top_values.index.values:\n",
    "       list_of_value_names.append(df.query('@df_column == @each')[df_column_for_name_label].values[0])\n",
    "    high_value= top_values.values[0]\n",
    "    low_value=top_values.values[-1]\n",
    "    fig,ax = plt.subplots(figsize=figsize)\n",
    "    plt.bar(range(len(top_values)), top_values.values, align='center', color= color)\n",
    "    for i in range(len(top_values.values)):\n",
    "            plt.annotate(str(top_values.values[i]), xy=(i,top_values.values[i]), ha='center', va='bottom')\n",
    "    plt.xticks(range(len(top_values)), list_of_value_names, size='medium', rotation=45)\n",
    "    plt.legend(labels=[f\"Highest Value = {high_value}\", f\"Lowest Value = {low_value}\"])\n",
    "    plt.savefig(f\"images/{imagename}\" + \".png\")\n",
    "    plt.title(title)\n",
    "    plt.show()\n",
    "\n"
   ]
  },
  {
   "cell_type": "code",
   "execution_count": null,
   "metadata": {},
   "outputs": [],
   "source": [
    "new_listings_with_cleaning_df = determine_avg_cleaning_fee(listings_detailed_df)\n",
    "new_listings_df = keep_pertinent_listings_data(new_listings_with_cleaning_df)\n",
    "\n",
    "price_median = calculate_distributions(new_listings_df,'price')[0]\n",
    "price_mean = calculate_distributions(new_listings_df,'price')[1]\n",
    "price_mode = calculate_distributions(new_listings_df,'price')[2]\n",
    "price_min = calculate_distributions(new_listings_df,'price')[3]\n",
    "price_max =calculate_distributions(new_listings_df,'price')[3]\n",
    "price_first_quantile= int(calculate_distributions(new_listings_df,'price')[5][0.25])\n",
    "min_logical_price = price_first_quantile * 25\n",
    "max_prices = new_listings_df.query('(price > @min_logical_price) and (minimum_nights >=30)')['price']\n",
    "\n",
    "price_corrected_df = determine_and_update_poss_mistaken_price(new_listings_df)\n",
    "determine_entire_home_rentals_less_than_30_days_pie_chart(listings_detailed_df, price_corrected_df, title='Percentage of Stays Violating Ordnance')\n",
    "\n",
    "prices = price_corrected_df['price']"
   ]
  },
  {
   "cell_type": "code",
   "execution_count": null,
   "metadata": {},
   "outputs": [],
   "source": [
    "new_listings_with_cleaning_df.head()"
   ]
  },
  {
   "cell_type": "code",
   "execution_count": null,
   "metadata": {},
   "outputs": [],
   "source": [
    "new_listings_df.head()"
   ]
  },
  {
   "cell_type": "code",
   "execution_count": null,
   "metadata": {},
   "outputs": [],
   "source": [
    "price_corrected_df.head()"
   ]
  },
  {
   "cell_type": "code",
   "execution_count": null,
   "metadata": {},
   "outputs": [],
   "source": [
    "plt.figure(figsize=(10,10))\n",
    "ax = sns.countplot(price_corrected_df['neighbourhood'],hue=price_corrected_df['room_type'])"
   ]
  },
  {
   "cell_type": "raw",
   "metadata": {},
   "source": []
  },
  {
   "cell_type": "code",
   "execution_count": null,
   "metadata": {},
   "outputs": [],
   "source": [
    "def draw_map(df):\n",
    "    asheville_center = [df.latitude.mean(), df.longitude.mean()]\n",
    "    zones = df.groupby('neighbourhood').mean().reset_index()\n",
    "    zone_name = zones['neighbourhood'].values.tolist()\n",
    "    zone_loc = zones[['latitude', 'longitude']].values.tolist()\n",
    "\n",
    "    base_map = fl.Map(location = asheville_center, control_scale = True, zoom_start = 12, tiles = 'OpenStreetMap')\n",
    "\n",
    "    for i in range(len(zone_name)):\n",
    "        attr = {'fill': 'midnightblue', 'font-weight': 'bold', 'font-size': '20'}\n",
    "        pl = fl.PolyLine([[zone_loc[i][0], zone_loc[i][1]-.1], [zone_loc[i][0], zone_loc[i][1]+.1]], weight = 15, color = 'rgb(255,255,255, 0)')\n",
    "        base_map.add_child(pl)\n",
    "        base_map.add_child(PolyLineTextPath(pl, text = zone_name[i], attributes = attr, center = True))\n",
    "    \n",
    "    return base_map\n",
    "\n",
    "base_map = draw_map(price_corrected_df)    \n",
    "base_map.add_child(HeatMap(data = price_corrected_df[['latitude', 'longitude']], min_opacity = 0.4, radius = 15, blur = 40))\n",
    "base_map.add_child(fl.ClickForMarker(popup='High amount of listings'))\n",
    "outfp='images/Asheville.html'\n",
    "base_map.save(outfp)"
   ]
  },
  {
   "cell_type": "code",
   "execution_count": null,
   "metadata": {},
   "outputs": [],
   "source": [
    "get_qualitative_dist_box_plot(price_corrected_df,'price', 'Price', 'Distribution of Nightly Prices', 'Price Distribution boxplot', color=\n",
    "                             'cyan')"
   ]
  },
  {
   "cell_type": "code",
   "execution_count": null,
   "metadata": {},
   "outputs": [],
   "source": [
    "number_of_listings_per_host = price_corrected_df['host_listings_count'].value_counts().index.sort_values(ascending=False)\n",
    "print(number_of_listings_per_host)"
   ]
  },
  {
   "cell_type": "code",
   "execution_count": null,
   "metadata": {},
   "outputs": [],
   "source": [
    "price_corrected_df.info()"
   ]
  },
  {
   "cell_type": "code",
   "execution_count": null,
   "metadata": {},
   "outputs": [],
   "source": [
    "price_values=prices.value_counts()[:20]\n",
    "plt.figure(figsize=(30,5))\n",
    "plt.bar(range(len(price_values)), price_values.values, align='center',)\n",
    "plt.xticks(range(len(price_values)), price_values.index.values, size='small')\n",
    "plt.title('Top 20 Most Occuring Nightly Prices')\n",
    "plt.ylabel('Count of Prices')\n",
    "plt.xlabel('Nightly Price')\n",
    "plt.savefig('images/Top 20 Most Occuring Nightly Prices.png')\n",
    "plt.show()"
   ]
  },
  {
   "cell_type": "code",
   "execution_count": null,
   "metadata": {},
   "outputs": [],
   "source": [
    "price_corrected_df.groupby(by='host_id')['calculated_host_listings_count_entire_homes'].count().value_counts().plot(xlabel='Listings Per Host', \n",
    "                                                                                                                    ylabel= 'Number of Hosts', kind='bar', \n",
    "                                                                                                                    figsize=(15,10), title= 'Total Entire Home Listings Per Host', \n",
    "                                                                                                                    color='purple',\n",
    "                                                                                                                   fontsize=14)\n",
    "\n",
    "indexes= price_corrected_df.groupby(by='host_id')['calculated_host_listings_count_entire_homes'].count().value_counts().values\n",
    "for i in range(0,len(indexes)):\n",
    "    plt.annotate(str(indexes[i]), xy=(i,indexes[i]),ha='center', va='bottom')\n",
    "plt.savefig('images/Total Entire Home Listings per Host.png')\n",
    "\n",
    "\n"
   ]
  },
  {
   "cell_type": "code",
   "execution_count": null,
   "metadata": {},
   "outputs": [],
   "source": []
  },
  {
   "cell_type": "code",
   "execution_count": null,
   "metadata": {},
   "outputs": [],
   "source": [
    "make_bar_chart_from_column_values_with_names_top20(price_corrected_df,'host_id', 'host_name', figsize=(30,5), title='Asheville Hosts With the Most Listings in Asheville', color='Orange', imagename='Hosts With the Mosts_names')\n",
    "\n",
    "price_corrected_df[[\"host_total_listings_count\", \"calculated_host_listings_count_entire_homes\"]][:20].plot(kind=\"bar\", stacked=False)\n"
   ]
  },
  {
   "cell_type": "code",
   "execution_count": null,
   "metadata": {},
   "outputs": [],
   "source": [
    "price_corrected_df.groupby(by='host_id')['calculated_host_listings_count_entire_homes'].count().value_counts().plot(kind='bar')\n",
    "make_bar_chart_from_column_values_with_values_top20(price_corrected_df,'calculated_host_listings_count_entire_homes', title='Air BnB Listings per Host Total', imagename='Bar Chart For Total Listings By Host in AirBnB')"
   ]
  },
  {
   "cell_type": "code",
   "execution_count": null,
   "metadata": {},
   "outputs": [],
   "source": [
    "price_corrected_df.query('calculated_host_listings_count_entire_homes > 10')['host_total_listings_count'].sort_values()"
   ]
  },
  {
   "cell_type": "code",
   "execution_count": null,
   "metadata": {},
   "outputs": [],
   "source": [
    "# host_local_listings = price_corrected_df['calculated_host_listings_count_entire_homes'].groupby(price_corrected_df['host_id']).count().sort_values(ascending=False)[:20]\n",
    "# host_total_listings = price_corrected_df['host_total_listings_count'].groupby(price_corrected_df['host_id']).count().sort_values(ascending=False)[:20]\n",
    "\n",
    "\n",
    "# #price_corrected_df.groupby(by='host_id')['calculated_host_listings_count_entire_homes'].count().value_counts().index\n",
    "# price_corrected_df.groupby(price_corrected_df['host_id'])['host_total_listings_count'].value_counts().sort_values"
   ]
  },
  {
   "cell_type": "code",
   "execution_count": null,
   "metadata": {},
   "outputs": [],
   "source": [
    "price_corrected_df[['calculated_host_listings_count_entire_homes','host_total_listings_count']].groupby(price_corrected_df['host_id']).count().sort_values(by='host_total_listings_count',ascending=False)"
   ]
  },
  {
   "cell_type": "code",
   "execution_count": null,
   "metadata": {},
   "outputs": [],
   "source": [
    "#it's likely that the host_listings_count field isn't used anymore as there were zero values in 535 of the data \n",
    "make_bar_chart_from_column_values_with_values_top20(new_listings_df,'host_listings_count', title='Air BnB Listings per Host Total', imagename='Bar Chart For Most Listings By Host in AirBnB')"
   ]
  },
  {
   "cell_type": "code",
   "execution_count": null,
   "metadata": {},
   "outputs": [],
   "source": [
    "build_distribution_histogram(prices,'green',[20,5],150,100,'Number of listings at price','Price','Distribution of Prices','prices_function_graph')"
   ]
  },
  {
   "cell_type": "code",
   "execution_count": null,
   "metadata": {},
   "outputs": [],
   "source": [
    "fig, ax = plt.subplots(figsize=(10, 8))  \n",
    "sns.violinplot(x='room_type', y='net_income_30', data=price_corrected_df, ax=ax)  \n",
    "ax.set_title('Violin plot')  \n",
    "plt.show()\n",
    "get_qualitative_dist_box_plot(price_corrected_df, 'net_income_30', 'Monthly Listing Net Income OCT 2021','Real Host Monthly Net Income/Listing OCT 2021','Real Host Monthly Net Income OCT 2021', color=(0.1, 0.4, 0.3))"
   ]
  },
  {
   "cell_type": "code",
   "execution_count": null,
   "metadata": {},
   "outputs": [],
   "source": [
    "get_qualitative_dist_box_plot(price_corrected_df, 'airbnb_profit_30', 'AirBnB Monthly Profit/Listing OCT 2021','AirBnB Monthly Profit/Listing OCT 2021','AirBnB Monthly Profit OCT 2021', color='magenta')"
   ]
  },
  {
   "cell_type": "code",
   "execution_count": null,
   "metadata": {},
   "outputs": [],
   "source": [
    "get_qualitative_dist_box_plot(price_corrected_df, 'cleaners_fee_30', 'Cleaners Monthly Profit/Listing OCT 2021','Cleaners Monthly Profit/Listing OCT 2021','Cleaners Monthly Profit OCT 2021', color='yellow')"
   ]
  },
  {
   "cell_type": "code",
   "execution_count": null,
   "metadata": {},
   "outputs": [],
   "source": [
    "def determine_theoretical_profit(df,median_value):\n",
    "    return median_value * len(df)\n",
    "\n",
    "calculate_distributions(price_corrected_df,'airbnb_profit_30')[0] * len(price_corrected_df)\n",
    "\n",
    "\n",
    "total_airbnb_profit = determine_theoretical_profit(price_corrected_df,calculate_distributions(price_corrected_df,'airbnb_profit_30')[0])\n",
    "total_host_profit = determine_theoretical_profit(price_corrected_df,calculate_distributions(price_corrected_df,'net_income_30')[0])\n",
    "total_cleaners_profit = determine_theoretical_profit(price_corrected_df,calculate_distributions(price_corrected_df,'cleaners_fee_30')[0])\n",
    "\n",
    "names = ['Airbnb Profit', 'Host Profit', 'Cleaners Profit']\n",
    "values = [int(total_airbnb_profit), int(total_host_profit), int(total_cleaners_profit)]\n",
    "fig,ax = plt.subplots(figsize=(10,10))\n",
    "plt.bar(names, values)\n",
    "plt.ticklabel_format(useOffset=False, style='plain', axis='y')\n",
    "plt.ylabel('Monthly Profits in USD')\n",
    "plt.suptitle('All Monthly Profits ')\n",
    "plt.savefig('images/All Monthly Profits.png')\n",
    "plt.show()\n"
   ]
  },
  {
   "cell_type": "code",
   "execution_count": null,
   "metadata": {},
   "outputs": [],
   "source": []
  }
 ],
 "metadata": {
  "kernelspec": {
   "display_name": "Python 3.9.7 64-bit ('dai_env': conda)",
   "language": "python",
   "name": "python397jvsc74a57bd009a03c8683039ba1f6f55bf434e083f6cce2c85106fd88959282cee281dcda04"
  },
  "language_info": {
   "codemirror_mode": {
    "name": "ipython",
    "version": 3
   },
   "file_extension": ".py",
   "mimetype": "text/x-python",
   "name": "python",
   "nbconvert_exporter": "python",
   "pygments_lexer": "ipython3",
   "version": "3.9.7"
  }
 },
 "nbformat": 4,
 "nbformat_minor": 4
}
